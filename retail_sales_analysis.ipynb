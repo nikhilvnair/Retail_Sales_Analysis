{
 "cells": [
  {
   "cell_type": "markdown",
   "id": "9d6768fd",
   "metadata": {},
   "source": [
    "# 📊 USA Retail Sales Analysis\n",
    "This notebook replicates the Power BI dashboard insights using Python."
   ]
  },
  {
   "cell_type": "code",
   "execution_count": null,
   "id": "22bc516d",
   "metadata": {},
   "outputs": [],
   "source": [
    "import pandas as pd\n",
    "import matplotlib.pyplot as plt\n",
    "import seaborn as sns\n",
    "sns.set(style='whitegrid')"
   ]
  },
  {
   "cell_type": "code",
   "execution_count": null,
   "id": "b6d48f0e",
   "metadata": {},
   "outputs": [],
   "source": [
    "# Load and clean the dataset\n",
    "df = pd.read_excel(\"Sample-Superstore.xlsx\")\n",
    "df.columns = df.columns.str.strip().str.lower().str.replace(' ', '_')\n",
    "df['order_date'] = pd.to_datetime(df['order_date'])\n",
    "df.head()"
   ]
  },
  {
   "cell_type": "code",
   "execution_count": null,
   "id": "a2db0c1f",
   "metadata": {},
   "outputs": [],
   "source": [
    "# Total KPIs\n",
    "print(\"Total Sales:\", round(df['sales'].sum(), 2))\n",
    "print(\"Total Orders:\", df['order_id'].nunique())\n",
    "print(\"Total Customers:\", df['customer_id'].nunique())\n",
    "print(\"Total Products:\", df['product_id'].nunique())"
   ]
  },
  {
   "cell_type": "code",
   "execution_count": null,
   "id": "78cb2327",
   "metadata": {},
   "outputs": [],
   "source": [
    "# Sales & Profit by Ship Mode\n",
    "ship_mode_summary = df.groupby('ship_mode')[['sales', 'profit']].sum().round(2)\n",
    "print(ship_mode_summary)\n",
    "\n",
    "ship_mode_summary.plot(kind='bar', figsize=(8,5))\n",
    "plt.title(\"Sales & Profit by Ship Mode\")\n",
    "plt.ylabel(\"Amount\")\n",
    "plt.xticks(rotation=45)\n",
    "plt.tight_layout()\n",
    "plt.show()"
   ]
  },
  {
   "cell_type": "code",
   "execution_count": null,
   "id": "9afaad8f",
   "metadata": {},
   "outputs": [],
   "source": [
    "# Sales & Profit by Segment\n",
    "segment_summary = df.groupby('segment')[['sales', 'profit']].sum().round(2)\n",
    "print(segment_summary)\n",
    "\n",
    "segment_summary.plot(kind='bar', figsize=(8,5))\n",
    "plt.title(\"Sales & Profit by Segment\")\n",
    "plt.ylabel(\"Amount\")\n",
    "plt.xticks(rotation=0)\n",
    "plt.tight_layout()\n",
    "plt.show()"
   ]
  },
  {
   "cell_type": "code",
   "execution_count": null,
   "id": "c7b9b542",
   "metadata": {},
   "outputs": [],
   "source": [
    "# Sales by Region with Percentage\n",
    "region_sales = df.groupby('region')['sales'].sum()\n",
    "region_sales_percent = 100 * region_sales / region_sales.sum()\n",
    "region_summary = pd.concat([region_sales.round(2), region_sales_percent.round(2)], axis=1)\n",
    "region_summary.columns = ['total_sales', 'percentage']\n",
    "print(region_summary)\n",
    "\n",
    "region_sales.plot(kind='pie', autopct='%1.1f%%', figsize=(6,6), title=\"Sales Distribution by Region\")\n",
    "plt.ylabel('')\n",
    "plt.show()"
   ]
  },
  {
   "cell_type": "code",
   "execution_count": null,
   "id": "5b90949b",
   "metadata": {},
   "outputs": [],
   "source": [
    "# Sales & Profit by Category\n",
    "category_summary = df.groupby('category')[['sales', 'profit']].sum().round(2)\n",
    "print(category_summary)\n",
    "\n",
    "category_summary.plot(kind='bar', figsize=(8,5))\n",
    "plt.title(\"Sales & Profit by Category\")\n",
    "plt.ylabel(\"Amount\")\n",
    "plt.xticks(rotation=0)\n",
    "plt.tight_layout()\n",
    "plt.show()"
   ]
  },
  {
   "cell_type": "code",
   "execution_count": null,
   "id": "1c99e776",
   "metadata": {},
   "outputs": [],
   "source": [
    "# Sales by State\n",
    "state_summary = df.groupby('state')['sales'].sum().round(2).sort_values()\n",
    "print(state_summary.tail())\n",
    "\n",
    "state_summary.plot(kind='barh', figsize=(10,10))\n",
    "plt.title(\"Sales by State\")\n",
    "plt.xlabel(\"Sales\")\n",
    "plt.tight_layout()\n",
    "plt.show()"
   ]
  },
  {
   "cell_type": "code",
   "execution_count": null,
   "id": "ab821cd4",
   "metadata": {},
   "outputs": [],
   "source": [
    "# Sales by Sub-Category\n",
    "subcat_summary = df.groupby('sub_category')['sales'].sum().round(2).sort_values()\n",
    "print(subcat_summary.tail())\n",
    "\n",
    "subcat_summary.plot(kind='barh', figsize=(8,8))\n",
    "plt.title(\"Sales by Sub-Category\")\n",
    "plt.xlabel(\"Sales\")\n",
    "plt.tight_layout()\n",
    "plt.show()"
   ]
  },
  {
   "cell_type": "code",
   "execution_count": null,
   "id": "de200f23",
   "metadata": {},
   "outputs": [],
   "source": [
    "# Monthly Sales Trend\n",
    "monthly_sales = df.resample('M', on='order_date')['sales'].sum()\n",
    "print(monthly_sales.tail())\n",
    "\n",
    "monthly_sales.plot(figsize=(10,5), marker='o')\n",
    "plt.title(\"Monthly Sales Trend\")\n",
    "plt.xlabel(\"Month\")\n",
    "plt.ylabel(\"Sales\")\n",
    "plt.tight_layout()\n",
    "plt.show()"
   ]
  },
  {
   "cell_type": "code",
   "execution_count": null,
   "id": "3cdd4661",
   "metadata": {},
   "outputs": [],
   "source": [
    "# Profit vs Sales Scatter Plot\n",
    "plt.figure(figsize=(8,6))\n",
    "sns.scatterplot(x='sales', y='profit', data=df)\n",
    "plt.title(\"Profit vs Sales\")\n",
    "plt.xlabel(\"Sales\")\n",
    "plt.ylabel(\"Profit\")\n",
    "plt.tight_layout()\n",
    "plt.show()"
   ]
  }
 ],
 "metadata": {},
 "nbformat": 4,
 "nbformat_minor": 5
}
